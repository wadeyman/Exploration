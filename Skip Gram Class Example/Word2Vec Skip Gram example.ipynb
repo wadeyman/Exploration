{
 "cells": [
  {
   "cell_type": "code",
   "execution_count": null,
   "metadata": {},
   "outputs": [],
   "source": [
    "# Class example on gender and related adjectives"
   ]
  },
  {
   "cell_type": "code",
   "execution_count": 7,
   "metadata": {},
   "outputs": [
    {
     "name": "stderr",
     "output_type": "stream",
     "text": [
      "C:\\Users\\Wade\\AppData\\Local\\Temp\\ipykernel_20500\\1219979266.py:5: DeprecationWarning: \n",
      "Pyarrow will become a required dependency of pandas in the next major release of pandas (pandas 3.0),\n",
      "(to allow more performant data types, such as the Arrow string type, and better interoperability with other libraries)\n",
      "but was not found to be installed on your system.\n",
      "If this would cause problems for you,\n",
      "please provide us feedback at https://github.com/pandas-dev/pandas/issues/54466\n",
      "        \n",
      "  import pandas as pd\n",
      "[nltk_data] Downloading package punkt to\n",
      "[nltk_data]     C:\\Users\\Wade\\AppData\\Roaming\\nltk_data...\n",
      "[nltk_data]   Package punkt is already up-to-date!\n",
      "[nltk_data] Downloading package stopwords to\n",
      "[nltk_data]     C:\\Users\\Wade\\AppData\\Roaming\\nltk_data...\n",
      "[nltk_data]   Package stopwords is already up-to-date!\n"
     ]
    },
    {
     "data": {
      "text/plain": [
       "True"
      ]
     },
     "execution_count": 7,
     "metadata": {},
     "output_type": "execute_result"
    }
   ],
   "source": [
    "import torch\n",
    "torch.manual_seed(10)\n",
    "from torch.autograd import Variable\n",
    "from torch.utils.data import DataLoader\n",
    "import pandas as pd\n",
    "import numpy as np\n",
    "from sklearn import decomposition\n",
    "from pathlib import Path\n",
    "import warnings\n",
    "warnings.filterwarnings(\"ignore\")\n",
    "import seaborn as sns\n",
    "from matplotlib import pyplot as plt\n",
    "plt.rcParams['figure.figsize'] = (10,8)\n",
    "import nltk\n",
    "from nltk.corpus import stopwords\n",
    "nltk.download('punkt')\n",
    "nltk.download('stopwords')"
   ]
  },
  {
   "cell_type": "code",
   "execution_count": 1,
   "metadata": {},
   "outputs": [],
   "source": [
    "corpus = ['king is a strong man',\n",
    "          'queen is a wise woman',\n",
    "          'boy is a young man',\n",
    "          'girl is a young woman',\n",
    "          'prince is a young king',\n",
    "          'princess is a young queen',\n",
    "          'man is strong',\n",
    "          'woman is pretty',\n",
    "          'prince is a boy will be king',\n",
    "          'princess is a girl will be queen']"
   ]
  },
  {
   "cell_type": "code",
   "execution_count": 3,
   "metadata": {},
   "outputs": [],
   "source": [
    "def create_vocab(corpus):\n",
    "    vocab = {}\n",
    "    i = 0\n",
    "    for s in corpus:\n",
    "        for word in s.split():\n",
    "            if word not in vocab:\n",
    "                vocab[word] = i\n",
    "                i += 1\n",
    "    return vocab\n"
   ]
  },
  {
   "cell_type": "code",
   "execution_count": 17,
   "metadata": {},
   "outputs": [
    {
     "data": {
      "text/plain": [
       "{'king': 0,\n",
       " 'strong': 1,\n",
       " 'man': 2,\n",
       " 'queen': 3,\n",
       " 'wise': 4,\n",
       " 'woman': 5,\n",
       " 'boy': 6,\n",
       " 'young': 7,\n",
       " 'girl': 8,\n",
       " 'prince': 9,\n",
       " 'princess': 10,\n",
       " 'pretty': 11}"
      ]
     },
     "execution_count": 17,
     "metadata": {},
     "output_type": "execute_result"
    }
   ],
   "source": [
    "vocab = create_vocab(corpus) # test with stopwords\n",
    "vocab"
   ]
  },
  {
   "cell_type": "code",
   "execution_count": 18,
   "metadata": {},
   "outputs": [],
   "source": [
    "def prepare_set_ravel(corpus, n_gram=1):\n",
    "    '''Creates a dataset with Input column and Output column for neighboring words.\n",
    "       The number of neighbors = n_gram*2'''\n",
    "    columns = ['Input', 'Output']\n",
    "    rows = []  # List to store rows\n",
    "    for sentence in corpus:\n",
    "        for i, w in enumerate(sentence.split()):\n",
    "            inp = w\n",
    "            for n in range(1, n_gram + 1):\n",
    "                # look back\n",
    "                if (i - n) >= 0:\n",
    "                    out = sentence.split()[i - n]\n",
    "                    rows.append([inp, out])\n",
    "\n",
    "                # look forward\n",
    "                if (i + n) < len(sentence.split()):\n",
    "                    out = sentence.split()[i + n]\n",
    "                    rows.append([inp, out])\n",
    "\n",
    "    # Convert list of rows to DataFrame\n",
    "    result = pd.DataFrame(rows, columns=columns)\n",
    "    return result"
   ]
  },
  {
   "cell_type": "code",
   "execution_count": 19,
   "metadata": {},
   "outputs": [],
   "source": [
    "# prepare_set_ravel(corpus, 1)\n",
    "# 'king is a strong man' example, king is, is king, is a etc...\n"
   ]
  },
  {
   "cell_type": "code",
   "execution_count": 20,
   "metadata": {},
   "outputs": [
    {
     "data": {
      "text/plain": [
       "['king strong man',\n",
       " 'queen wise woman',\n",
       " 'boy young man',\n",
       " 'girl young woman',\n",
       " 'prince young king',\n",
       " 'princess young queen',\n",
       " 'man strong',\n",
       " 'woman pretty',\n",
       " 'prince boy king',\n",
       " 'princess girl queen']"
      ]
     },
     "execution_count": 20,
     "metadata": {},
     "output_type": "execute_result"
    }
   ],
   "source": [
    "stop_words = nltk.corpus.stopwords.words('english')\n",
    "\n",
    "def remove_stops(corpus):\n",
    "    result = []\n",
    "    for i in corpus:\n",
    "        out = nltk.word_tokenize(i)\n",
    "        out = [x.lower() for x in out]\n",
    "        out = [x for x in out if x not in stop_words]\n",
    "        result.append(\" \". join(out))\n",
    "    return result\n",
    "\n",
    "corpus = remove_stops(corpus)\n",
    "corpus"
   ]
  },
  {
   "cell_type": "code",
   "execution_count": 21,
   "metadata": {},
   "outputs": [
    {
     "data": {
      "text/html": [
       "<div>\n",
       "<style scoped>\n",
       "    .dataframe tbody tr th:only-of-type {\n",
       "        vertical-align: middle;\n",
       "    }\n",
       "\n",
       "    .dataframe tbody tr th {\n",
       "        vertical-align: top;\n",
       "    }\n",
       "\n",
       "    .dataframe thead th {\n",
       "        text-align: right;\n",
       "    }\n",
       "</style>\n",
       "<table border=\"1\" class=\"dataframe\">\n",
       "  <thead>\n",
       "    <tr style=\"text-align: right;\">\n",
       "      <th></th>\n",
       "      <th>Input</th>\n",
       "      <th>Output</th>\n",
       "    </tr>\n",
       "  </thead>\n",
       "  <tbody>\n",
       "    <tr>\n",
       "      <th>0</th>\n",
       "      <td>king</td>\n",
       "      <td>strong</td>\n",
       "    </tr>\n",
       "    <tr>\n",
       "      <th>1</th>\n",
       "      <td>strong</td>\n",
       "      <td>king</td>\n",
       "    </tr>\n",
       "  </tbody>\n",
       "</table>\n",
       "</div>"
      ],
      "text/plain": [
       "    Input  Output\n",
       "0    king  strong\n",
       "1  strong    king"
      ]
     },
     "execution_count": 21,
     "metadata": {},
     "output_type": "execute_result"
    }
   ],
   "source": [
    "train_embs = prepare_set_ravel(corpus, 1)\n",
    "train_embs.head(2)"
   ]
  },
  {
   "cell_type": "code",
   "execution_count": 22,
   "metadata": {},
   "outputs": [
    {
     "data": {
      "text/html": [
       "<div>\n",
       "<style scoped>\n",
       "    .dataframe tbody tr th:only-of-type {\n",
       "        vertical-align: middle;\n",
       "    }\n",
       "\n",
       "    .dataframe tbody tr th {\n",
       "        vertical-align: top;\n",
       "    }\n",
       "\n",
       "    .dataframe thead th {\n",
       "        text-align: right;\n",
       "    }\n",
       "</style>\n",
       "<table border=\"1\" class=\"dataframe\">\n",
       "  <thead>\n",
       "    <tr style=\"text-align: right;\">\n",
       "      <th></th>\n",
       "      <th>Input</th>\n",
       "      <th>Output</th>\n",
       "    </tr>\n",
       "  </thead>\n",
       "  <tbody>\n",
       "    <tr>\n",
       "      <th>0</th>\n",
       "      <td>0</td>\n",
       "      <td>1</td>\n",
       "    </tr>\n",
       "    <tr>\n",
       "      <th>1</th>\n",
       "      <td>1</td>\n",
       "      <td>0</td>\n",
       "    </tr>\n",
       "    <tr>\n",
       "      <th>2</th>\n",
       "      <td>1</td>\n",
       "      <td>2</td>\n",
       "    </tr>\n",
       "    <tr>\n",
       "      <th>3</th>\n",
       "      <td>2</td>\n",
       "      <td>1</td>\n",
       "    </tr>\n",
       "    <tr>\n",
       "      <th>4</th>\n",
       "      <td>3</td>\n",
       "      <td>4</td>\n",
       "    </tr>\n",
       "  </tbody>\n",
       "</table>\n",
       "</div>"
      ],
      "text/plain": [
       "   Input  Output\n",
       "0      0       1\n",
       "1      1       0\n",
       "2      1       2\n",
       "3      2       1\n",
       "4      3       4"
      ]
     },
     "execution_count": 22,
     "metadata": {},
     "output_type": "execute_result"
    }
   ],
   "source": [
    "# Map the words in the \"Input\" and \"Output\" columns of the train data frame to their corresponding indices in the vocabulary\n",
    "train_embs.Input = train_embs.Input.map(vocab)\n",
    "train_embs.Output = train_embs.Output.map(vocab)\n",
    "train_embs.head()"
   ]
  },
  {
   "cell_type": "code",
   "execution_count": 35,
   "metadata": {},
   "outputs": [
    {
     "data": {
      "text/plain": [
       "(36, 2)"
      ]
     },
     "execution_count": 35,
     "metadata": {},
     "output_type": "execute_result"
    }
   ],
   "source": [
    "train_embs.shape"
   ]
  },
  {
   "cell_type": "code",
   "execution_count": 36,
   "metadata": {},
   "outputs": [],
   "source": [
    "vocab_size = len(vocab)\n",
    "# Transform 1D tensor of word indexes to one-hot encoded 2D tensor\n",
    "def get_input_tensor(tensor):\n",
    "    size = [*tensor.shape][0]\n",
    "    # uses scatter_ to fill in ones at the positions specified by tensor.unsqueeze(1). This effectively one-hot encodes the input tensor.\n",
    "    inp = torch.zeros(size, vocab_size).scatter_(1, tensor.unsqueeze(1), 1.)\n",
    "    return Variable(inp).float()"
   ]
  },
  {
   "cell_type": "code",
   "execution_count": 37,
   "metadata": {},
   "outputs": [
    {
     "data": {
      "text/plain": [
       "False"
      ]
     },
     "execution_count": 37,
     "metadata": {},
     "output_type": "execute_result"
    }
   ],
   "source": [
    "torch.cuda.is_available()"
   ]
  },
  {
   "cell_type": "code",
   "execution_count": 38,
   "metadata": {},
   "outputs": [],
   "source": [
    "device = torch.device('cpu')"
   ]
  },
  {
   "cell_type": "markdown",
   "metadata": {},
   "source": [
    "Recall the architecture of NN.\n",
    "- W1 matrix of size vocab_size  ×  embedding_dims\n",
    "- W2 of shape embedding_dims  × vocab_size.\n",
    "- requires_grad = True, as we want NN to compute gradients for those weights matices for their optimization.\n",
    "- Weights should be initialized to small random numbers by using function torch.randn for randomization and using uniform_ to limit bounds of weights between (−0.5/embedding_dims,  0.5/embedding_dims)."
   ]
  },
  {
   "cell_type": "code",
   "execution_count": 42,
   "metadata": {},
   "outputs": [
    {
     "name": "stdout",
     "output_type": "stream",
     "text": [
      "W1 shape is: torch.Size([12, 5]), W2 shape is: torch.Size([5, 12])\n"
     ]
    }
   ],
   "source": [
    "initdims = 5\n",
    "initrange = 0.5 / initdims\n",
    "W1 = Variable(torch.randn(vocab_size, initdims, device=device).uniform_(-initrange, initrange).float(), requires_grad=True)\n",
    "W2 = Variable(torch.randn(initdims, vocab_size, device=device).uniform_(-initrange, initrange).float(), requires_grad=True)\n",
    "print(f'W1 shape is: {W1.shape}, W2 shape is: {W2.shape}')"
   ]
  },
  {
   "cell_type": "code",
   "execution_count": 44,
   "metadata": {},
   "outputs": [
    {
     "name": "stdout",
     "output_type": "stream",
     "text": [
      "Epoch 0, loss = 2.4862873554229736\n",
      "Epoch 50, loss = 2.2410993576049805\n",
      "Epoch 100, loss = 1.32881498336792\n",
      "Epoch 150, loss = 1.1530431509017944\n",
      "Epoch 200, loss = 1.9528565406799316\n",
      "Epoch 250, loss = 3.332357168197632\n",
      "Epoch 300, loss = 2.481595277786255\n",
      "Epoch 350, loss = 1.4653700590133667\n",
      "Epoch 400, loss = 1.3871113061904907\n",
      "Epoch 450, loss = 1.714005470275879\n",
      "Epoch 500, loss = 1.459080457687378\n",
      "Epoch 550, loss = 1.4917056560516357\n",
      "Epoch 600, loss = 1.6490943431854248\n",
      "Epoch 650, loss = 1.3645071983337402\n",
      "Epoch 700, loss = 1.3953323364257812\n",
      "Epoch 750, loss = 1.3684672117233276\n",
      "Epoch 800, loss = 1.3324813842773438\n",
      "Epoch 850, loss = 1.2841767072677612\n",
      "Epoch 900, loss = 1.2464174032211304\n",
      "Epoch 950, loss = 1.2127447128295898\n",
      "Epoch 1000, loss = 1.1983641386032104\n",
      "Epoch 1050, loss = 1.1932872533798218\n",
      "Epoch 1100, loss = 1.1880725622177124\n",
      "Epoch 1150, loss = 1.1822333335876465\n",
      "Epoch 1200, loss = 1.176114559173584\n",
      "Epoch 1250, loss = 1.1720361709594727\n",
      "Epoch 1300, loss = 1.1649975776672363\n",
      "Epoch 1350, loss = 1.1562798023223877\n",
      "Epoch 1400, loss = 1.15172278881073\n",
      "Epoch 1450, loss = 1.1525110006332397\n",
      "Epoch 1500, loss = 1.1527531147003174\n",
      "Epoch 1550, loss = 1.1515306234359741\n",
      "Epoch 1600, loss = 1.1499178409576416\n",
      "Epoch 1650, loss = 1.156722068786621\n",
      "Epoch 1700, loss = 1.1520192623138428\n",
      "Epoch 1750, loss = 1.1466050148010254\n",
      "Epoch 1800, loss = 1.1449332237243652\n",
      "Epoch 1850, loss = 1.1451789140701294\n",
      "Epoch 1900, loss = 1.1454652547836304\n",
      "Epoch 1950, loss = 1.1454339027404785\n"
     ]
    }
   ],
   "source": [
    "num_epochs = 2000\n",
    "learning_rate = 2e-1\n",
    "lr_decay = 0.99\n",
    "loss_hist = []\n",
    "for epo in range(num_epochs):\n",
    "    for x,y in zip(DataLoader(train_embs.Input.values, batch_size=train_embs.shape[0]), DataLoader(train_embs.Output.values, batch_size=train_embs.shape[0])):\n",
    "\n",
    "        # one-hot encode input tensor\n",
    "        input_tensor = get_input_tensor(x) #shape N*V\n",
    "\n",
    "        # simple NN architecture\n",
    "        h = input_tensor.mm(W1) # shape 1*H\n",
    "        y_pred = h.mm(W2) # shape 1*V, follows number of outputs we need\n",
    "\n",
    "        # define loss func\n",
    "        loss_f = torch.nn.CrossEntropyLoss() # details: https://pytorch.org/docs/stable/nn.html\n",
    "\n",
    "        #compute loss\n",
    "        loss = loss_f(y_pred, y)\n",
    "\n",
    "        # backpropagation step\n",
    "        loss.backward()\n",
    "\n",
    "        # Update weights using gradient descent. For this step we just want to mutate\n",
    "        # the values of w1 and w2 in-place; we don't want to build up a computational\n",
    "        # graph for the update steps, so we use the torch.no_grad() context manager\n",
    "        # to prevent PyTorch from building a computational graph for the updates\n",
    "        # https://pytorch.org/blog/computational-graphs-constructed-in-pytorch/\n",
    "        with torch.no_grad():\n",
    "            W1 -= learning_rate*W1.grad.data\n",
    "            W2 -= learning_rate*W2.grad.data\n",
    "            # zero gradients for next step\n",
    "            W1.grad.data.zero_()\n",
    "            W1.grad.data.zero_()\n",
    "    if epo%10 == 0:\n",
    "        learning_rate *= lr_decay\n",
    "    loss_hist.append(loss)\n",
    "    if epo%50 == 0:\n",
    "        print(f'Epoch {epo}, loss = {loss}')"
   ]
  },
  {
   "cell_type": "code",
   "execution_count": 78,
   "metadata": {},
   "outputs": [],
   "source": [
    "plotloss = list(x.item() for x in loss_hist)\n"
   ]
  },
  {
   "cell_type": "code",
   "execution_count": 80,
   "metadata": {},
   "outputs": [
    {
     "data": {
      "image/png": "[encoded data removed]",
      "text/plain": [
       "<Figure size 1000x800 with 1 Axes>"
      ]
     },
     "metadata": {},
     "output_type": "display_data"
    }
   ],
   "source": [
    "plt.plot(plotloss, label='Training Loss')\n",
    "plt.xlabel('Epoch')\n",
    "plt.ylabel('Loss')\n",
    "plt.title('Training Loss over Epochs')\n",
    "plt.legend()\n",
    "plt.show()"
   ]
  },
  {
   "cell_type": "markdown",
   "metadata": {},
   "source": [
    "Fall in loss over time, the number of epochs we need should be set high enough such that we do not\n",
    "end up with a model at a region that may be rising in error."
   ]
  },
  {
   "cell_type": "code",
   "execution_count": 82,
   "metadata": {},
   "outputs": [
    {
     "ename": "AttributeError",
     "evalue": "'numpy.ndarray' object has no attribute 'detach'",
     "output_type": "error",
     "traceback": [
      "\u001b[1;31m---------------------------------------------------------------------------\u001b[0m",
      "\u001b[1;31mAttributeError\u001b[0m                            Traceback (most recent call last)",
      "Cell \u001b[1;32mIn[82], line 1\u001b[0m\n\u001b[1;32m----> 1\u001b[0m W1 \u001b[38;5;241m=\u001b[39m \u001b[43mW1\u001b[49m\u001b[38;5;241;43m.\u001b[39;49m\u001b[43mdetach\u001b[49m()\u001b[38;5;241m.\u001b[39mnumpy()\n\u001b[0;32m      2\u001b[0m W2 \u001b[38;5;241m=\u001b[39m W2\u001b[38;5;241m.\u001b[39mT\u001b[38;5;241m.\u001b[39mdetach()\u001b[38;5;241m.\u001b[39mnumpy()\n\u001b[0;32m      3\u001b[0m W1\n",
      "\u001b[1;31mAttributeError\u001b[0m: 'numpy.ndarray' object has no attribute 'detach'"
     ]
    }
   ],
   "source": [
    "W1 = W1.detach().numpy()\n",
    "W2 = W2.T.detach().numpy()\n",
    "W1"
   ]
  },
  {
   "cell_type": "code",
   "execution_count": null,
   "metadata": {},
   "outputs": [
    {
     "data": {
      "text/plain": [
       "(12, 5)"
      ]
     },
     "execution_count": 48,
     "metadata": {},
     "output_type": "execute_result"
    }
   ],
   "source": [
    "W1.shape"
   ]
  },
  {
   "cell_type": "code",
   "execution_count": null,
   "metadata": {},
   "outputs": [
    {
     "data": {
      "image/png": "[encoded data removed]",
      "text/plain": [
       "<Figure size 1000x800 with 1 Axes>"
      ]
     },
     "metadata": {},
     "output_type": "display_data"
    }
   ],
   "source": [
    "svd = decomposition.TruncatedSVD(n_components=2)\n",
    "W1_dec = svd.fit_transform(W1)\n",
    "x = W1_dec[:,0]\n",
    "y = W1_dec[:,1]\n",
    "plot = sns.scatterplot(x=x, y=y)\n",
    "\n",
    "for i in range(0,W1_dec.shape[0]):\n",
    "     plot.text(x[i], y[i]+2e-2, list(vocab.keys())[i], horizontalalignment='center', size='small', color='black', weight='semibold')"
   ]
  },
  {
   "cell_type": "markdown",
   "metadata": {},
   "source": [
    "We can clearly identify groups and patterns. Masculine adjectives, female nouns, male nouns are grouped\n",
    "closer together."
   ]
  }
 ],
 "metadata": {
  "kernelspec": {
   "display_name": "Python 3",
   "language": "python",
   "name": "python3"
  },
  "language_info": {
   "codemirror_mode": {
    "name": "ipython",
    "version": 3
   },
   "file_extension": ".py",
   "mimetype": "text/x-python",
   "name": "python",
   "nbconvert_exporter": "python",
   "pygments_lexer": "ipython3",
   "version": "3.11.8"
  }
 },
 "nbformat": 4,
 "nbformat_minor": 2
}
